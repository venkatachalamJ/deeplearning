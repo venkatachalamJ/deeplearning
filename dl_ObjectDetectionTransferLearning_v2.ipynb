{
  "nbformat": 4,
  "nbformat_minor": 0,
  "metadata": {
    "anaconda-cloud": {},
    "hide_input": false,
    "kernelspec": {
      "display_name": "Python 3",
      "language": "python",
      "name": "python3"
    },
    "language_info": {
      "codemirror_mode": {
        "name": "ipython",
        "version": 3
      },
      "file_extension": ".py",
      "mimetype": "text/x-python",
      "name": "python",
      "nbconvert_exporter": "python",
      "pygments_lexer": "ipython3",
      "version": "3.6.3"
    },
    "colab": {
      "name": "dl_ObjectDetectionTransferLearning_v2.ipynb",
      "provenance": []
    }
  },
  "cells": [
    {
      "cell_type": "markdown",
      "metadata": {
        "id": "bV12XaU_c5pX",
        "colab_type": "text"
      },
      "source": [
        "### Importing packages"
      ]
    },
    {
      "cell_type": "code",
      "metadata": {
        "scrolled": true,
        "id": "BPI74mdBc5pY",
        "colab_type": "code",
        "colab": {},
        "outputId": "0f5e3cf4-1dd7-42b4-dd4f-7c78fc2108b8"
      },
      "source": [
        "%matplotlib inline\n",
        "import numpy as np\n",
        "import pandas as pd\n",
        "from keras.preprocessing.image import ImageDataGenerator\n",
        "from keras.models import Model\n",
        "from keras.layers import Input, Flatten, Dense\n",
        "from keras.callbacks import Callback, ModelCheckpoint\n",
        "from keras.applications.vgg16 import VGG16\n",
        "from keras.preprocessing import image\n",
        "from keras.applications.vgg16 import preprocess_input\n",
        "\n",
        "import warnings\n",
        "warnings.filterwarnings('ignore')"
      ],
      "execution_count": null,
      "outputs": [
        {
          "output_type": "stream",
          "text": [
            "C:\\Users\\m8060118\\AppData\\Local\\Continuum\\anaconda3\\lib\\site-packages\\h5py\\__init__.py:36: FutureWarning: Conversion of the second argument of issubdtype from `float` to `np.floating` is deprecated. In future, it will be treated as `np.float64 == np.dtype(float).type`.\n",
            "  from ._conv import register_converters as _register_converters\n",
            "Using TensorFlow backend.\n",
            "C:\\Users\\m8060118\\AppData\\Local\\Continuum\\anaconda3\\lib\\site-packages\\tensorflow\\python\\framework\\dtypes.py:526: FutureWarning: Passing (type, 1) or '1type' as a synonym of type is deprecated; in a future version of numpy, it will be understood as (type, (1,)) / '(1,)type'.\n",
            "  _np_qint8 = np.dtype([(\"qint8\", np.int8, 1)])\n",
            "C:\\Users\\m8060118\\AppData\\Local\\Continuum\\anaconda3\\lib\\site-packages\\tensorflow\\python\\framework\\dtypes.py:527: FutureWarning: Passing (type, 1) or '1type' as a synonym of type is deprecated; in a future version of numpy, it will be understood as (type, (1,)) / '(1,)type'.\n",
            "  _np_quint8 = np.dtype([(\"quint8\", np.uint8, 1)])\n",
            "C:\\Users\\m8060118\\AppData\\Local\\Continuum\\anaconda3\\lib\\site-packages\\tensorflow\\python\\framework\\dtypes.py:528: FutureWarning: Passing (type, 1) or '1type' as a synonym of type is deprecated; in a future version of numpy, it will be understood as (type, (1,)) / '(1,)type'.\n",
            "  _np_qint16 = np.dtype([(\"qint16\", np.int16, 1)])\n",
            "C:\\Users\\m8060118\\AppData\\Local\\Continuum\\anaconda3\\lib\\site-packages\\tensorflow\\python\\framework\\dtypes.py:529: FutureWarning: Passing (type, 1) or '1type' as a synonym of type is deprecated; in a future version of numpy, it will be understood as (type, (1,)) / '(1,)type'.\n",
            "  _np_quint16 = np.dtype([(\"quint16\", np.uint16, 1)])\n",
            "C:\\Users\\m8060118\\AppData\\Local\\Continuum\\anaconda3\\lib\\site-packages\\tensorflow\\python\\framework\\dtypes.py:530: FutureWarning: Passing (type, 1) or '1type' as a synonym of type is deprecated; in a future version of numpy, it will be understood as (type, (1,)) / '(1,)type'.\n",
            "  _np_qint32 = np.dtype([(\"qint32\", np.int32, 1)])\n",
            "C:\\Users\\m8060118\\AppData\\Local\\Continuum\\anaconda3\\lib\\site-packages\\tensorflow\\python\\framework\\dtypes.py:535: FutureWarning: Passing (type, 1) or '1type' as a synonym of type is deprecated; in a future version of numpy, it will be understood as (type, (1,)) / '(1,)type'.\n",
            "  np_resource = np.dtype([(\"resource\", np.ubyte, 1)])\n"
          ],
          "name": "stderr"
        }
      ]
    },
    {
      "cell_type": "markdown",
      "metadata": {
        "id": "7V5kGlAsc5pd",
        "colab_type": "text"
      },
      "source": [
        "###  Load the pretrained Network"
      ]
    },
    {
      "cell_type": "code",
      "metadata": {
        "id": "QBkLOhruc5pd",
        "colab_type": "code",
        "colab": {}
      },
      "source": [
        "model_vgg16_conv = VGG16(weights='imagenet', include_top=False)"
      ],
      "execution_count": null,
      "outputs": []
    },
    {
      "cell_type": "markdown",
      "metadata": {
        "id": "1uSsyZ4Cc5pg",
        "colab_type": "text"
      },
      "source": [
        "###  Freeze the layers"
      ]
    },
    {
      "cell_type": "code",
      "metadata": {
        "id": "xmSVC04fc5ph",
        "colab_type": "code",
        "colab": {}
      },
      "source": [
        "for layer in model_vgg16_conv.layers:\n",
        "    layer.trainable = False"
      ],
      "execution_count": null,
      "outputs": []
    },
    {
      "cell_type": "markdown",
      "metadata": {
        "id": "n3WDGgtNc5pj",
        "colab_type": "text"
      },
      "source": [
        "###  Training parameters"
      ]
    },
    {
      "cell_type": "code",
      "metadata": {
        "id": "G1Xcq3Xrc5pk",
        "colab_type": "code",
        "colab": {}
      },
      "source": [
        "img_width, img_height = 150, 150\n",
        "train_data_dir = 'D:/TF/imagedetection/train'\n",
        "val_data_dir = 'D:/TF/imagedetection/validation'\n",
        "model_weights_file = 'vgg16-xfer-weights.h5'\n",
        "nb_train_samples = 37500\n",
        "nb_val_samples = 12500\n",
        "nb_epochs = 1"
      ],
      "execution_count": null,
      "outputs": []
    },
    {
      "cell_type": "markdown",
      "metadata": {
        "id": "K0poyiEPc5po",
        "colab_type": "text"
      },
      "source": [
        "###  Build a classification model on top of Base Network"
      ]
    },
    {
      "cell_type": "code",
      "metadata": {
        "id": "DShPuO5_c5po",
        "colab_type": "code",
        "colab": {}
      },
      "source": [
        "input = Input(shape=(img_width, img_height, 3))\n",
        "output_vgg16_conv = model_vgg16_conv(input)\n",
        "x = Flatten()(output_vgg16_conv)\n",
        "x = Dense(64, activation='relu')(x)\n",
        "x = Dense(10, activation='softmax')(x)\n",
        "model = Model(input=input, output=x)\n",
        "\n",
        "model.compile(loss='categorical_crossentropy', optimizer='rmsprop', metrics=['accuracy'])"
      ],
      "execution_count": null,
      "outputs": []
    },
    {
      "cell_type": "markdown",
      "metadata": {
        "id": "OxJfpGTjc5pr",
        "colab_type": "text"
      },
      "source": [
        "###  Dataset Preparation"
      ]
    },
    {
      "cell_type": "code",
      "metadata": {
        "id": "qj5FiNIac5pr",
        "colab_type": "code",
        "colab": {},
        "outputId": "a9c844ab-ff7e-4407-cf9e-c7134759523a"
      },
      "source": [
        "train_datagen = ImageDataGenerator(rescale=1./255, shear_range=0.2, zoom_range=0.2, horizontal_flip=True)\n",
        "test_datagen = ImageDataGenerator(rescale=1./255)\n",
        "\n",
        "train_generator = train_datagen.flow_from_directory(train_data_dir, target_size=(img_width, img_height), \n",
        "                                                    batch_size=4, class_mode='categorical')\n",
        "validation_generator = test_datagen.flow_from_directory(val_data_dir, target_size=(img_width, img_height), \n",
        "                                                        batch_size=4,class_mode='categorical')"
      ],
      "execution_count": null,
      "outputs": [
        {
          "output_type": "stream",
          "text": [
            "Found 37500 images belonging to 10 classes.\n",
            "Found 12500 images belonging to 10 classes.\n"
          ],
          "name": "stdout"
        }
      ]
    },
    {
      "cell_type": "markdown",
      "metadata": {
        "id": "VZC8lPmec5pu",
        "colab_type": "text"
      },
      "source": [
        "###  Training"
      ]
    },
    {
      "cell_type": "code",
      "metadata": {
        "scrolled": false,
        "id": "YNh6JFmEc5pw",
        "colab_type": "code",
        "colab": {}
      },
      "source": [
        "callbacks = [ModelCheckpoint(model_weights_file, monitor='val_acc', save_best_only=True)]\n",
        "\n",
        "history = model.fit_generator( train_generator, callbacks = callbacks, samples_per_epoch=nb_train_samples, \n",
        "                              nb_epoch=nb_epochs, validation_data=validation_generator, nb_val_samples=nb_val_samples)\n",
        "\n",
        "print('Training Completed!')"
      ],
      "execution_count": null,
      "outputs": []
    },
    {
      "cell_type": "markdown",
      "metadata": {
        "id": "zqbqBUNCc5py",
        "colab_type": "text"
      },
      "source": [
        "###  Test the model"
      ]
    },
    {
      "cell_type": "code",
      "metadata": {
        "id": "sp456k3oc5pz",
        "colab_type": "code",
        "colab": {},
        "outputId": "32283c8a-af0e-4405-b5f9-5bfa2d0ea3f2"
      },
      "source": [
        "img_path = 'Cat.jpg'\n",
        "label = ['Cat','Dog']\n",
        "img = image.load_img(img_path, target_size=(150, 150))\n",
        "x = image.img_to_array(img)\n",
        "x = np.expand_dims(x, axis=0)\n",
        "x = preprocess_input(x)\n",
        "\n",
        "features = model.predict(x)\n",
        "ind = np.where(features == 1)[1][0]\n",
        "print('Predicted Array:',features)\n",
        "print('Predicted Label:',label[ind])"
      ],
      "execution_count": null,
      "outputs": [
        {
          "output_type": "stream",
          "text": [
            "Predicted Array: [[1. 0.]]\n",
            "Predicted Label: Cat\n"
          ],
          "name": "stdout"
        }
      ]
    }
  ]
}